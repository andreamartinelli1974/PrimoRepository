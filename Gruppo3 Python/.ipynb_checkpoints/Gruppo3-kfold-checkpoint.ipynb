{
 "cells": [
  {
   "cell_type": "code",
   "execution_count": 1,
   "metadata": {},
   "outputs": [
    {
     "name": "stderr",
     "output_type": "stream",
     "text": [
      "C:\\Users\\u093799\\AppData\\Local\\Continuum\\anaconda3\\lib\\site-packages\\sklearn\\ensemble\\weight_boosting.py:29: DeprecationWarning: numpy.core.umath_tests is an internal NumPy module and should not be imported. It will be removed in a future NumPy release.\n",
      "  from numpy.core.umath_tests import inner1d\n"
     ]
    },
    {
     "name": "stdout",
     "output_type": "stream",
     "text": [
      "\\\\srv0001\\Risorse\\Public\\Gruppo3-Python\n"
     ]
    }
   ],
   "source": [
    "\"\"\"Progetto_gruppo3.ipynb\n",
    "\"\"\"\n",
    "\n",
    "#%% IMPORT SECTION\n",
    "import os\n",
    "import pandas as pd\n",
    "import numpy as np\n",
    "import matplotlib.pyplot as plt\n",
    "from sklearn.tree import DecisionTreeClassifier \n",
    "from sklearn.ensemble import RandomForestClassifier\n",
    "from sklearn import ensemble \n",
    "from sklearn import tree\n",
    "\n",
    "#%% DIRECTORY SETTINGS\n",
    "# Change work directory\n",
    "os.chdir('//srv0001/Risorse/Public/Gruppo3-Python')\n",
    "cwd = os.getcwd()\n",
    "print(cwd)\n",
    "\n",
    "\n",
    "#%% PREPARE FUNCTION\n",
    "def prepare_data(data):\n",
    "   \n",
    "    features = data.drop([\"REF_DATE\", \"ICB_INDUSTRY_NUM\", \"ICB_SECTOR_NUM\", \"IS_FINANCIAL\"], axis=1).astype(\"float64\")\n",
    "        \n",
    "    return features\n"
   ]
  },
  {
   "cell_type": "code",
   "execution_count": 4,
   "metadata": {},
   "outputs": [],
   "source": [
    "#%% IMPORT DATA\n",
    "#Import .csv\n",
    "clean_data = pd.read_csv(r'Data/clean.csv', sep=';')\n",
    "#print(clean_data)\n",
    "\n",
    "raw = clean_data.copy()\n",
    "raw.loc[raw.ICB_INDUSTRY_NUM==8000,'IS_FINANCIAL'] = 1\n",
    "raw = raw.fillna(0)\n",
    "filtered_data = raw.drop([\"SEDOLCHK\"], axis=1)\n"
   ]
  },
  {
   "cell_type": "code",
   "execution_count": 3,
   "metadata": {},
   "outputs": [],
   "source": [
    "#%% K-FOLD VALIDATION\n",
    "valid = filtered_data.to_numpy(copy=True)\n",
    "N = valid.shape[0]\n",
    "K = 100                                          # number of folds\n",
    "preds_kfold = np.empty(N)\n",
    "folds = np.random.randint(0, K, size=N)\n",
    "\n",
    "for idx in np.arange(K):\n",
    "    # For each fold, break your data into training and testing subsets\n",
    "    data_train = pd.DataFrame(valid[folds != idx,:],columns=['REF_DATE','SIMPLE_TOT_RET','COMPOUND_TOT_RET','FIVE_YR_VOLATILITY_M','FIVE_YR_VOLATILITY_W','ADY','AERR','AGRE','APE','CGR','CV3Y_EPS','CV3Y_EREV_FY1','CV3Y_REP_EPS','CV3Y_REV_MARK','CV5Y_EPS','CV6M_P','CV6M_PM6M','DEBT_MKT_CAP','DY_FWD','DY_TRL','EBIT_SALES','ECM','EEREV','EPS_SIGMA','EPSDISP','EREV','F2GRE','FDY','FERR','FGRE','FPE','FWD_ECM','FWD_GRE','LRE','MKT_CAP_SALES','NM','PB','PM6MBIS','PM6MTRIS','PCF','PCTCHG_DPS','PCTCHG_EBIT','PCTCHG_EBIT_MARGIN','PCTCHG_EBITDA','PCTCHG_EQUITY','PCTCHG_NET_DEBT','PCTCHG_NM','PCTCHG_PRE_TAX_PROFIT','PCTCHG_ROE','PCTCHG_SALES','PCTCHG_UL_SALES','PE_FWD','PE_TRL','PM6M','RC1MEEREV','RC1MEREV','REC_MARK_1M','REC_MARK_3M','REV_MARK_1M','REV_MARK_3M','REV_STD_MARK','ROE','TRL_ECM','TRL_GRE','TURNOVER_1M','UL_SALES','PB_PCF_1','PB_PCF_2','ICB_INDUSTRY_NUM','ICB_SECTOR_NUM','IS_FINANCIAL'])\n",
    "    data_test = pd.DataFrame(valid[folds == idx,:],columns=['REF_DATE','SIMPLE_TOT_RET','COMPOUND_TOT_RET','FIVE_YR_VOLATILITY_M','FIVE_YR_VOLATILITY_W','ADY','AERR','AGRE','APE','CGR','CV3Y_EPS','CV3Y_EREV_FY1','CV3Y_REP_EPS','CV3Y_REV_MARK','CV5Y_EPS','CV6M_P','CV6M_PM6M','DEBT_MKT_CAP','DY_FWD','DY_TRL','EBIT_SALES','ECM','EEREV','EPS_SIGMA','EPSDISP','EREV','F2GRE','FDY','FERR','FGRE','FPE','FWD_ECM','FWD_GRE','LRE','MKT_CAP_SALES','NM','PB','PM6MBIS','PM6MTRIS','PCF','PCTCHG_DPS','PCTCHG_EBIT','PCTCHG_EBIT_MARGIN','PCTCHG_EBITDA','PCTCHG_EQUITY','PCTCHG_NET_DEBT','PCTCHG_NM','PCTCHG_PRE_TAX_PROFIT','PCTCHG_ROE','PCTCHG_SALES','PCTCHG_UL_SALES','PE_FWD','PE_TRL','PM6M','RC1MEEREV','RC1MEREV','REC_MARK_1M','REC_MARK_3M','REV_MARK_1M','REV_MARK_3M','REV_STD_MARK','ROE','TRL_ECM','TRL_GRE','TURNOVER_1M','UL_SALES','PB_PCF_1','PB_PCF_2','ICB_INDUSTRY_NUM','ICB_SECTOR_NUM','IS_FINANCIAL'])\n"
   ]
  },
  {
   "cell_type": "code",
   "execution_count": 5,
   "metadata": {},
   "outputs": [
    {
     "name": "stdout",
     "output_type": "stream",
     "text": [
      "        SIMPLE_TOT_RET  COMPOUND_TOT_RET  FIVE_YR_VOLATILITY_M  \\\n",
      "0               0.0616            0.0616                0.3930   \n",
      "1               0.1607            0.1607                0.3452   \n",
      "2               0.0489            0.0489                0.2102   \n",
      "3               0.1337            0.1337                0.3508   \n",
      "4              -0.0268           -0.0268                0.6543   \n",
      "...                ...               ...                   ...   \n",
      "104118         -0.0148           -0.0148                0.2703   \n",
      "104119          0.0215            0.0215                0.2447   \n",
      "104120         -0.0633           -0.0633                0.2145   \n",
      "104121          0.0235            0.0235                0.3198   \n",
      "104122         -0.0137           -0.0137                0.1827   \n",
      "\n",
      "        FIVE_YR_VOLATILITY_W     ADY    AERR    AGRE      APE     CGR  \\\n",
      "0                     0.3944  0.0217  0.7146  0.1269  13.1687  0.1336   \n",
      "1                     0.3675  0.0250  0.5070  1.1861  19.7183  0.0286   \n",
      "2                     0.2270  0.0352  0.6016  0.1034  11.3051 -0.0373   \n",
      "3                     0.3270  0.0777  0.0000  0.0264  13.4045  0.1182   \n",
      "4                     0.6698  0.0000  1.0000  0.0832  36.3643  0.1082   \n",
      "...                      ...     ...     ...     ...      ...     ...   \n",
      "104118                0.3183  0.0309  0.7365 -0.1805  11.2391 -0.0497   \n",
      "104119                0.2550  0.0272  0.5059  0.0880  17.5372  0.0509   \n",
      "104120                0.2271  0.0152  0.3751  0.0373  34.4259  0.1195   \n",
      "104121                0.3053  0.0524  0.0920 -0.0940  19.1282  0.2324   \n",
      "104122                0.2016  0.0210  0.7028 -0.0262  15.8590  0.1311   \n",
      "\n",
      "        CV3Y_EPS  ...  REV_MARK_1M  REV_MARK_3M  REV_STD_MARK     ROE  \\\n",
      "0         0.1389  ...      -0.0003       0.0010       -0.0002  0.2529   \n",
      "1         0.4814  ...       0.0054       0.0083        0.0033  0.1332   \n",
      "2         0.1106  ...      -0.0063      -0.0074       -0.0038  0.1395   \n",
      "3         0.0504  ...       0.0000      -0.0110        0.0000  0.2224   \n",
      "4         0.1383  ...       0.0006       0.0021        0.0004  0.1482   \n",
      "...          ...  ...          ...          ...           ...     ...   \n",
      "104118    0.0994  ...      -0.0019      -0.0105       -0.0011  0.0999   \n",
      "104119    0.0508  ...       0.0002       0.0009        0.0001  0.1121   \n",
      "104120    0.1021  ...      -0.0009      -0.0015       -0.0005  0.1137   \n",
      "104121    0.1045  ...      -0.0017      -0.0041       -0.0010  0.2877   \n",
      "104122    0.2834  ...       0.0062       0.0099        0.0037  0.0565   \n",
      "\n",
      "        TRL_ECM  TRL_GRE  TURNOVER_1M  UL_SALES  PB_PCF_1  PB_PCF_2  \n",
      "0        0.0233   0.0793      10.6313    0.0384    8.8152    8.8152  \n",
      "1        0.1570   0.3736      16.1745    0.0519    7.7778    7.7778  \n",
      "2       -0.0441  -0.1081       5.0433    0.0553    8.2545    8.2545  \n",
      "3       -0.0625  -0.0403      16.3080    0.1356   11.8313   11.8313  \n",
      "4        0.0470   0.2447       4.6257    0.2606   20.7958   20.7958  \n",
      "...         ...      ...          ...       ...       ...       ...  \n",
      "104118  -0.0644  -0.0665      20.1891    0.1426   10.6480   10.6480  \n",
      "104119   0.0202   0.0907      15.1546    0.1643   14.6560   14.6560  \n",
      "104120  -0.0335   0.1147      10.8309    0.2150   32.3224   32.3224  \n",
      "104121  -0.0863   0.1538      11.4375    0.2600   17.1484   17.1484  \n",
      "104122   0.0041   0.1977       8.4172    0.1056    0.8955   15.4951  \n",
      "\n",
      "[104123 rows x 67 columns]\n"
     ]
    }
   ],
   "source": [
    "#%% PREPARE FEATURES\n",
    "features = prepare_data(data_train)\n",
    "print(features)\n",
    "\n",
    "for col in data_train.columns:\n",
    "    if data_train[col].dtype==object: # and col!='SEDOLCHK':\n",
    "        data_train[col]=pd.to_numeric(data_train[col],errors='coerce')\n",
    "        \n",
    "for col in data_test.columns:\n",
    "    if data_test[col].dtype==object: # and col!='SEDOLCHK':\n",
    "        data_test[col]=pd.to_numeric(data_test[col],errors='coerce')\n"
   ]
  },
  {
   "cell_type": "code",
   "execution_count": 6,
   "metadata": {},
   "outputs": [
    {
     "name": "stdout",
     "output_type": "stream",
     "text": [
      "1.0\n"
     ]
    },
    {
     "ename": "AttributeError",
     "evalue": "module 'sklearn.tree' has no attribute 'plot_tree'",
     "output_type": "error",
     "traceback": [
      "\u001b[1;31m---------------------------------------------------------------------------\u001b[0m",
      "\u001b[1;31mAttributeError\u001b[0m                            Traceback (most recent call last)",
      "\u001b[1;32m<ipython-input-6-b7fc73f218cd>\u001b[0m in \u001b[0;36m<module>\u001b[1;34m()\u001b[0m\n\u001b[0;32m      6\u001b[0m \u001b[1;33m\u001b[0m\u001b[0m\n\u001b[0;32m      7\u001b[0m \u001b[0mplt\u001b[0m\u001b[1;33m.\u001b[0m\u001b[0mfigure\u001b[0m\u001b[1;33m(\u001b[0m\u001b[0mfigsize\u001b[0m\u001b[1;33m=\u001b[0m\u001b[1;33m[\u001b[0m\u001b[1;36m30.0\u001b[0m\u001b[1;33m,\u001b[0m \u001b[1;36m30.0\u001b[0m\u001b[1;33m]\u001b[0m\u001b[1;33m)\u001b[0m\u001b[1;33m\u001b[0m\u001b[0m\n\u001b[1;32m----> 8\u001b[1;33m \u001b[0mtree\u001b[0m\u001b[1;33m.\u001b[0m\u001b[0mplot_tree\u001b[0m\u001b[1;33m(\u001b[0m\u001b[0mmodel\u001b[0m\u001b[1;33m,\u001b[0m \u001b[0mfeature_names\u001b[0m\u001b[1;33m=\u001b[0m\u001b[0mfeatures\u001b[0m\u001b[1;33m.\u001b[0m\u001b[0mcolumns\u001b[0m\u001b[1;33m)\u001b[0m\u001b[1;33m\u001b[0m\u001b[0m\n\u001b[0m",
      "\u001b[1;31mAttributeError\u001b[0m: module 'sklearn.tree' has no attribute 'plot_tree'"
     ]
    },
    {
     "data": {
      "text/plain": [
       "<Figure size 2160x2160 with 0 Axes>"
      ]
     },
     "metadata": {},
     "output_type": "display_data"
    }
   ],
   "source": [
    "#%% SINGLE TREE\n",
    "model = tree.DecisionTreeClassifier(max_depth = None)\n",
    "model.fit(features, data_train[\"IS_FINANCIAL\"])\n",
    "print(model.score(prepare_data(data_train), data_train[\"IS_FINANCIAL\"]))\n",
    "model.score(prepare_data(data_test), data_test[\"IS_FINANCIAL\"])\n",
    "\n",
    "plt.figure(figsize=[30.0, 30.0])\n",
    "tree.plot_tree(model, feature_names=features.columns)"
   ]
  },
  {
   "cell_type": "code",
   "execution_count": null,
   "metadata": {},
   "outputs": [],
   "source": [
    "#%% RANDOM FOREST\n",
    "forest = ensemble.RandomForestClassifier(n_estimators=500, bootstrap=True, max_features=None)\n",
    "forest.fit(features, data_train[\"IS_FINANCIAL\"])\n",
    "print(forest.score(prepare_data(data_train), data_train[\"IS_FINANCIAL\"]))\n",
    "forest.score(prepare_data(data_test), data_test[\"IS_FINANCIAL\"])   \n",
    "\n"
   ]
  }
 ],
 "metadata": {
  "kernelspec": {
   "display_name": "Python 3",
   "language": "python",
   "name": "python3"
  },
  "language_info": {
   "codemirror_mode": {
    "name": "ipython",
    "version": 3
   },
   "file_extension": ".py",
   "mimetype": "text/x-python",
   "name": "python",
   "nbconvert_exporter": "python",
   "pygments_lexer": "ipython3",
   "version": "3.6.5"
  }
 },
 "nbformat": 4,
 "nbformat_minor": 2
}
