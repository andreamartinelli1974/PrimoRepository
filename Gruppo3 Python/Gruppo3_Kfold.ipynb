{
 "cells": [
  {
   "cell_type": "code",
   "execution_count": null,
   "metadata": {},
   "outputs": [],
   "source": [
    "\"\"\"Progetto_gruppo3.ipynb\n",
    "\"\"\"\n",
    "\n",
    "#%% IMPORT SECTION\n",
    "import os\n",
    "import pandas as pd\n",
    "import numpy as np\n",
    "import matplotlib.pyplot as plt\n",
    "from sklearn.tree import DecisionTreeClassifier \n",
    "from sklearn.ensemble import RandomForestClassifier\n",
    "from sklearn import ensemble \n",
    "from sklearn import tree\n",
    "\n",
    "#%% DIRECTORY SETTINGS\n",
    "# Change work directory\n",
    "os.chdir('//srv0001/Risorse/Public/Gruppo3-Python')\n",
    "cwd = os.getcwd()\n",
    "print(cwd)\n",
    "\n",
    "#%% PREPARE FUNCTION\n",
    "def prepare_data(data):\n",
    "   \n",
    "    features = data.drop([\"REF_DATE\", \"SEDOLCHK\",\"ICB_INDUSTRY_NUM\", \"ICB_SECTOR_NUM\", \"IS_FINANCIAL\"], axis=1).astype(\"float64\")\n",
    "        \n",
    "    return features\n"
   ]
  },
  {
   "cell_type": "code",
   "execution_count": null,
   "metadata": {},
   "outputs": [],
   "source": [
    "#%% IMPORT DATA\n",
    "#Import .csv\n",
    "clean_data = pd.read_csv(r'Data/clean.csv', sep=';')\n",
    "companynames = pd.read_csv(r'Data/companynames.csv', sep=',')\n",
    "companynames = companynames.drop_duplicates(subset = \"SEDOLCHK\")\n",
    "print(clean_data.head(10))\n",
    "\n",
    "filtered_data = clean_data.copy()\n",
    "filtered_data.loc[filtered_data.ICB_INDUSTRY_NUM==8000,'IS_FINANCIAL'] = 1\n",
    "filtered_data = filtered_data.fillna(0)"
   ]
  },
  {
   "cell_type": "code",
   "execution_count": null,
   "metadata": {},
   "outputs": [],
   "source": [
    "#%% K-FOLD VALIDATION\n",
    "valid = filtered_data.copy().to_numpy()\n",
    "N = valid.shape[0]\n",
    "K = 100                                          # number of folds\n",
    "preds_kfold = np.empty(N)\n",
    "folds = np.random.randint(0, K, size=N)\n",
    "\n",
    "for idx in np.arange(K):\n",
    "    # For each fold, break your data into training and testing subsets\n",
    "    data_train = pd.DataFrame(valid[folds != idx,:],columns=['REF_DATE','SEDOLCHK','SIMPLE_TOT_RET','COMPOUND_TOT_RET','FIVE_YR_VOLATILITY_M','FIVE_YR_VOLATILITY_W','ADY','AERR','AGRE','APE','CGR','CV3Y_EPS','CV3Y_EREV_FY1','CV3Y_REP_EPS','CV3Y_REV_MARK','CV5Y_EPS','CV6M_P','CV6M_PM6M','DEBT_MKT_CAP','DY_FWD','DY_TRL','EBIT_SALES','ECM','EEREV','EPS_SIGMA','EPSDISP','EREV','F2GRE','FDY','FERR','FGRE','FPE','FWD_ECM','FWD_GRE','LRE','MKT_CAP_SALES','NM','PB','PM6MBIS','PM6MTRIS','PCF','PCTCHG_DPS','PCTCHG_EBIT','PCTCHG_EBIT_MARGIN','PCTCHG_EBITDA','PCTCHG_EQUITY','PCTCHG_NET_DEBT','PCTCHG_NM','PCTCHG_PRE_TAX_PROFIT','PCTCHG_ROE','PCTCHG_SALES','PCTCHG_UL_SALES','PE_FWD','PE_TRL','PM6M','RC1MEEREV','RC1MEREV','REC_MARK_1M','REC_MARK_3M','REV_MARK_1M','REV_MARK_3M','REV_STD_MARK','ROE','TRL_ECM','TRL_GRE','TURNOVER_1M','UL_SALES','PB_PCF_1','PB_PCF_2','ICB_INDUSTRY_NUM','ICB_SECTOR_NUM','IS_FINANCIAL'])\n",
    "    data_test  = pd.DataFrame(valid[folds == idx,:],columns=['REF_DATE','SEDOLCHK','SIMPLE_TOT_RET','COMPOUND_TOT_RET','FIVE_YR_VOLATILITY_M','FIVE_YR_VOLATILITY_W','ADY','AERR','AGRE','APE','CGR','CV3Y_EPS','CV3Y_EREV_FY1','CV3Y_REP_EPS','CV3Y_REV_MARK','CV5Y_EPS','CV6M_P','CV6M_PM6M','DEBT_MKT_CAP','DY_FWD','DY_TRL','EBIT_SALES','ECM','EEREV','EPS_SIGMA','EPSDISP','EREV','F2GRE','FDY','FERR','FGRE','FPE','FWD_ECM','FWD_GRE','LRE','MKT_CAP_SALES','NM','PB','PM6MBIS','PM6MTRIS','PCF','PCTCHG_DPS','PCTCHG_EBIT','PCTCHG_EBIT_MARGIN','PCTCHG_EBITDA','PCTCHG_EQUITY','PCTCHG_NET_DEBT','PCTCHG_NM','PCTCHG_PRE_TAX_PROFIT','PCTCHG_ROE','PCTCHG_SALES','PCTCHG_UL_SALES','PE_FWD','PE_TRL','PM6M','RC1MEEREV','RC1MEREV','REC_MARK_1M','REC_MARK_3M','REV_MARK_1M','REV_MARK_3M','REV_STD_MARK','ROE','TRL_ECM','TRL_GRE','TURNOVER_1M','UL_SALES','PB_PCF_1','PB_PCF_2','ICB_INDUSTRY_NUM','ICB_SECTOR_NUM','IS_FINANCIAL'])\n"
   ]
  },
  {
   "cell_type": "code",
   "execution_count": null,
   "metadata": {},
   "outputs": [],
   "source": [
    "%% PREPARE FEATURES\n",
    "features = prepare_data(data_train)\n",
    "print(features)\n",
    "\n",
    "for col in data_train.columns:\n",
    "    if data_train[col].dtype==object and col!='SEDOLCHK':\n",
    "        data_train[col]=pd.to_numeric(data_train[col],errors='coerce')\n",
    "        \n",
    "for col in data_test.columns:\n",
    "    if data_test[col].dtype==object and col!='SEDOLCHK':\n",
    "        data_test[col]=pd.to_numeric(data_test[col],errors='coerce')\n"
   ]
  },
  {
   "cell_type": "code",
   "execution_count": null,
   "metadata": {},
   "outputs": [],
   "source": [
    "#%% SINGLE TREE\n",
    "model = tree.DecisionTreeClassifier(max_depth = None)\n",
    "model.fit(features, data_train[\"IS_FINANCIAL\"])\n",
    "print(model.score(prepare_data(data_train), data_train[\"IS_FINANCIAL\"]))\n",
    "model.score(prepare_data(data_test), data_test[\"IS_FINANCIAL\"])\n",
    "\n",
    "plt.figure(figsize=[30.0, 30.0])\n",
    "tree.plot_tree(model, feature_names=features.columns)"
   ]
  },
  {
   "cell_type": "code",
   "execution_count": null,
   "metadata": {},
   "outputs": [],
   "source": [
    "#%% GET THE OUTLIERS SEDOLCHK & names\n",
    "predicted = model.predict(prepare_data(data_test))\n",
    "g_truth = data_test[\"IS_FINANCIAL\"].to_numpy(copy=True)\n",
    "outliers_sedol = pd.DataFrame(data_test[\"SEDOLCHK\"][np.where(predicted != g_truth)[0]]).reset_index().drop('index', axis =1 )\n",
    "\n",
    "\n",
    "outliers = outliers_sedol.merge(companynames, left_on='SEDOLCHK', right_on='SEDOLCHK')\n",
    "\n",
    "print(outliers)"
   ]
  },
  {
   "cell_type": "code",
   "execution_count": null,
   "metadata": {},
   "outputs": [],
   "source": [
    "#%% RANDOM FOREST\n",
    "forest = ensemble.RandomForestClassifier(n_estimators=500, bootstrap=True, max_features=None)\n",
    "forest.fit(features, data_train[\"IS_FINANCIAL\"])\n",
    "print(forest.score(prepare_data(data_train), data_train[\"IS_FINANCIAL\"]))\n",
    "forest.score(prepare_data(data_test), data_test[\"IS_FINANCIAL\"])   "
   ]
  },
  {
   "cell_type": "code",
   "execution_count": null,
   "metadata": {},
   "outputs": [],
   "source": [
    "#%% GET THE OUTLIERS SEDOLCHK\n",
    "predicted_f = forest.predict(prepare_data(data_test))\n",
    "g_truth = data_test[\"IS_FINANCIAL\"].to_numpy(copy=True)\n",
    "outliers_sedol_f = pd.DataFrame(data_test[\"SEDOLCHK\"][np.where(predicted_f != g_truth)[0]]).reset_index().drop('index', axis =1 )\n",
    "\n",
    "outliers_f = outliers_sedol_f.merge(companynames, left_on='SEDOLCHK', right_on='SEDOLCHK')\n",
    "\n",
    "print(outliers_f)"
   ]
  }
 ],
 "metadata": {
  "kernelspec": {
   "display_name": "Python 3",
   "language": "python",
   "name": "python3"
  },
  "language_info": {
   "codemirror_mode": {
    "name": "ipython",
    "version": 3
   },
   "file_extension": ".py",
   "mimetype": "text/x-python",
   "name": "python",
   "nbconvert_exporter": "python",
   "pygments_lexer": "ipython3",
   "version": "3.6.5"
  }
 },
 "nbformat": 4,
 "nbformat_minor": 4
}
