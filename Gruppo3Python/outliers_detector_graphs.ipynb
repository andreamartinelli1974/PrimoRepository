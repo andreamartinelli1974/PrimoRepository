{
 "cells": [
  {
   "cell_type": "code",
   "execution_count": 6,
   "metadata": {},
   "outputs": [
    {
     "name": "stdout",
     "output_type": "stream",
     "text": [
      "\\\\srv0001\\Risorse\\Public\\Gruppo3-Python\n"
     ]
    }
   ],
   "source": [
    "\"\"\"Progetto_gruppo3.ipynb\n",
    "\"\"\"\n",
    "\n",
    "#%% IMPORT SECTION\n",
    "import os\n",
    "import pandas as pd\n",
    "import numpy as np\n",
    "import matplotlib.pyplot as plt\n",
    "from random import seed\n",
    "from random import randint\n",
    "\n",
    "#%% DIRECTORY SETTINGS\n",
    "# Change work directory\n",
    "os.chdir('//srv0001/Risorse/Public/Gruppo3-Python')\n",
    "cwd = os.getcwd()\n",
    "print(cwd)\n",
    "\n",
    "\n",
    "#%% PREPARE FUNCTION\n",
    "def prepare_data(data):\n",
    "   \n",
    "    features = data.drop([\"REF_DATE\", \"SEDOLCHK\", \"ICB_INDUSTRY_NUM\", \"ICB_SECTOR_NUM\"], axis=1).astype(\"float64\")\n",
    "        \n",
    "    return features\n"
   ]
  },
  {
   "cell_type": "code",
   "execution_count": 2,
   "metadata": {},
   "outputs": [
    {
     "name": "stdout",
     "output_type": "stream",
     "text": [
      "0    20050429\n",
      "1    20050531\n",
      "2    20050630\n",
      "3    20050729\n",
      "4    20050831\n",
      "5    20050930\n",
      "6    20051031\n",
      "7    20051130\n",
      "8    20051230\n",
      "9    20060131\n",
      "Name: REF_DATE, dtype: int64\n"
     ]
    }
   ],
   "source": [
    "#%% IMPORT DATA\n",
    "#Import .csv\n",
    "clean_data = pd.read_csv(r'Data/clean2.csv', sep=',')\n",
    "\n",
    "for col in clean_data.columns:\n",
    "        if clean_data[col].dtype==object and col!='SEDOLCHK':\n",
    "            clean_data[col]=pd.to_numeric(clean_data[col],errors='coerce')\n",
    "        \n",
    "companynames = pd.read_csv(r'Data/companynames.csv', sep=',')\n",
    "companynames = companynames.drop_duplicates(subset = \"SEDOLCHK\")\n",
    "\n",
    "#print(clean_data.head(10))\n",
    "\n",
    "referenceDate = clean_data[\"REF_DATE\"].drop_duplicates().reset_index(drop = True)\n",
    "\n",
    "print(referenceDate.head(10))\n",
    "\n",
    "sectors_dict = {'1':'Oil & Gas','1000':'Basic Materials','2000':'Industrial',\n",
    "'3000':'Consumer Good','4000':'Health Care','5000':'Consumer Services',\n",
    "'6000':'Telecomunications','7000':'Utilities','8000':'Financials',\n",
    "'9000':'Technology'}"
   ]
  },
  {
   "cell_type": "code",
   "execution_count": 40,
   "metadata": {
    "scrolled": true
   },
   "outputs": [
    {
     "name": "stdout",
     "output_type": "stream",
     "text": [
      "16\n"
     ]
    },
    {
     "data": {
      "image/png": "[encoded data removed]",
      "text/plain": [
       "<Figure size 1008x720 with 1 Axes>"
      ]
     },
     "metadata": {
      "needs_background": "light"
     },
     "output_type": "display_data"
    }
   ],
   "source": [
    "one_month_data = clean_data[(clean_data.REF_DATE==20181031)].copy()\n",
    "colors_dict = {'1':'blue','1000':'red','2000':'green',\n",
    "'3000':'yellow','4000':'cyan','5000':'purple',\n",
    "'6000':'orange','7000':'grey','8000':'olive',\n",
    "'9000':'brown'}\n",
    "\n",
    "one_month_data[\"ICB_INDUSTRY_NUM\"] = one_month_data[\"ICB_INDUSTRY_NUM\"].astype(str)\n",
    "one_month_data[\"ICB_INDUSTRY_NUM\"] = one_month_data[\"ICB_INDUSTRY_NUM\"].map(colors_dict)\n",
    "\n",
    "n_col=len(one_month_data.columns)\n",
    "\n",
    "col_to_plot = np.random.randint(2, n_col-2, size=2)\n",
    "print(col_to_plot[0])\n",
    "\n",
    "#col1 = one_month_data.columns[col_to_plot[0]]\n",
    "#col2 = one_month_data.columns[col_to_plot[1]]\n",
    "\n",
    "col1 = 'PB_PCF_1'\n",
    "col2 = 'EBIT_SALES'\n",
    "\n",
    "x = one_month_data[col1]\n",
    "y = one_month_data[col2]\n",
    "color = one_month_data['ICB_INDUSTRY_NUM']\n",
    "\n",
    "fig, ax = plt.subplots(figsize=(14, 10))\n",
    "\n",
    "ax.scatter(x, y, c=color, label=color, edgecolors='none')\n",
    "\n",
    "ax.set_xlabel(col1)\n",
    "ax.set_ylabel(col2)\n",
    "\n",
    "#ax.grid(True)\n",
    "\n",
    "plt.show()"
   ]
  },
  {
   "cell_type": "code",
   "execution_count": null,
   "metadata": {},
   "outputs": [],
   "source": []
  },
  {
   "cell_type": "code",
   "execution_count": null,
   "metadata": {},
   "outputs": [],
   "source": []
  }
 ],
 "metadata": {
  "kernelspec": {
   "display_name": "Python 3",
   "language": "python",
   "name": "python3"
  },
  "language_info": {
   "codemirror_mode": {
    "name": "ipython",
    "version": 3
   },
   "file_extension": ".py",
   "mimetype": "text/x-python",
   "name": "python",
   "nbconvert_exporter": "python",
   "pygments_lexer": "ipython3",
   "version": "3.6.5"
  }
 },
 "nbformat": 4,
 "nbformat_minor": 4
}
