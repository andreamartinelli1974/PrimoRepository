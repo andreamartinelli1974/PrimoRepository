{
 "cells": [
  {
   "cell_type": "code",
   "execution_count": 1,
   "metadata": {},
   "outputs": [
    {
     "name": "stdout",
     "output_type": "stream",
     "text": [
      "\\\\srv0001\\Risorse\\Public\\Gruppo3-Python\n"
     ]
    }
   ],
   "source": [
    "\"\"\"Progetto_gruppo3.ipynb\n",
    "\"\"\"\n",
    "\n",
    "#%% IMPORT SECTION\n",
    "import os\n",
    "import pandas as pd\n",
    "import numpy as np\n",
    "import matplotlib.pyplot as plt\n",
    "from sklearn.tree import DecisionTreeClassifier \n",
    "from sklearn.ensemble import RandomForestClassifier\n",
    "from sklearn import ensemble \n",
    "from sklearn import tree\n",
    "\n",
    "#%% DIRECTORY SETTINGS\n",
    "# Change work directory\n",
    "os.chdir('//srv0001/Risorse/Public/Gruppo3-Python')\n",
    "cwd = os.getcwd()\n",
    "print(cwd)\n",
    "\n",
    "\n",
    "#%% PREPARE FUNCTION\n",
    "def prepare_data(data):\n",
    "   \n",
    "    features = data.drop([\"REF_DATE\", \"SEDOLCHK\", \"ICB_INDUSTRY_NUM\", \"ICB_SECTOR_NUM\"], axis=1).astype(\"float64\")\n",
    "        \n",
    "    return features\n"
   ]
  },
  {
   "cell_type": "code",
   "execution_count": 6,
   "metadata": {},
   "outputs": [
    {
     "name": "stdout",
     "output_type": "stream",
     "text": [
      "   REF_DATE SEDOLCHK  SIMPLE_TOT_RET  COMPOUND_TOT_RET  FIVE_YR_VOLATILITY_M  \\\n",
      "0  20050429    96162        0.061576          0.061576              0.393006   \n",
      "1  20050429  5713422        0.160714          0.160714              0.345234   \n",
      "2  20050429  BFRSRR7        0.048899          0.048899              0.210220   \n",
      "3  20050429   309644        0.133696          0.133696              0.350844   \n",
      "4  20050429  BYXS699       -0.026759         -0.026759              0.654300   \n",
      "5  20050429   180366        0.049464          0.049464              0.304141   \n",
      "6  20050429  7086650        0.077516          0.077516              0.294512   \n",
      "7  20050429  B1QH830        0.052083          0.052083              0.305665   \n",
      "8  20050429  B1XH026        0.065292          0.065605              0.214153   \n",
      "9  20050429  4061393        0.107707          0.107968              0.317072   \n",
      "\n",
      "   FIVE_YR_VOLATILITY_W       ADY      AERR      AGRE       APE  ...  \\\n",
      "0              0.394376  0.021675  0.714570  0.126908  13.16874  ...   \n",
      "1              0.367468  0.025000  0.507042  1.186080  19.71832  ...   \n",
      "2              0.226989  0.035242  0.601581  0.103386  11.30512  ...   \n",
      "3              0.326956  0.077681  0.000000  0.026424  13.40449  ...   \n",
      "4              0.669824  0.000000  1.000000  0.083212  36.36430  ...   \n",
      "5              0.290389  0.046166  0.533644  0.141072  10.10163  ...   \n",
      "6              0.305476  0.003993  0.908676  1.612952  22.86968  ...   \n",
      "7              0.301718  0.043403  0.479899  1.380812  11.98312  ...   \n",
      "8              0.224755  0.030144  0.603623  0.084048  13.14926  ...   \n",
      "9              0.368014  0.020219  0.696875  0.358257  14.99186  ...   \n",
      "\n",
      "   REV_STD_MARK       ROE   TRL_ECM   TRL_GRE  TURNOVER_1M  UL_SALES  \\\n",
      "0     -0.000167  0.252909  0.023294  0.079338    10.631300  0.038443   \n",
      "1      0.003257  0.133236  0.157033  0.373592    16.174480  0.051881   \n",
      "2     -0.003808  0.139480 -0.044052 -0.108124     5.043304  0.055346   \n",
      "3      0.000026  0.222408 -0.062505 -0.040259    16.308010  0.135606   \n",
      "4      0.000353  0.148208  0.047023  0.244651     4.625721  0.260557   \n",
      "5     -0.014570  0.199096 -0.066363 -0.049020    20.975460  0.190406   \n",
      "6      0.000727  0.174013 -0.168524  0.438229     2.348297  0.084520   \n",
      "7      0.006095  0.165192  0.140747  0.196250   100.735200  0.078789   \n",
      "8      0.001129  0.241901  0.098319  0.104781    52.311330  0.065228   \n",
      "9      0.001367  0.168243  0.058378  0.159656     9.697785  0.153569   \n",
      "\n",
      "    PB_PCF_1   PB_PCF_2  ICB_INDUSTRY_NUM  ICB_SECTOR_NUM  \n",
      "0   8.815166   8.815166              2000            2350  \n",
      "1   7.777806   7.777806              2000            2750  \n",
      "2   8.254547   8.254547              3000            3570  \n",
      "3  11.831260  11.831260              2000            2790  \n",
      "4  20.795810  20.795810              4000            4570  \n",
      "5   2.341711   9.474795              8000            8770  \n",
      "6   5.188351   5.188351              2000            2720  \n",
      "7   5.507106   5.507106              2000            2750  \n",
      "8   6.292714   6.292714              2000            2350  \n",
      "9   4.070660   4.070660              3000            3760  \n",
      "\n",
      "[10 rows x 69 columns]\n"
     ]
    }
   ],
   "source": [
    "#%% IMPORT DATA\n",
    "#Import .csv\n",
    "clean_data = pd.read_csv(r'Data/clean.csv', sep=';')\n",
    "companynames = pd.read_csv(r'Data/companynames.csv', sep=',')\n",
    "companynames = companynames.drop_duplicates(subset = \"SEDOLCHK\")\n",
    "print(clean_data.head(10))\n"
   ]
  },
  {
   "cell_type": "code",
   "execution_count": 206,
   "metadata": {},
   "outputs": [],
   "source": [
    "#%% K-FOLD VALIDATION\n",
    "valid = clean_data.to_numpy(copy=True)\n",
    "N = valid.shape[0]\n",
    "K = valid.shape[1]                                         # number of folds\n",
    "preds_kfold = np.empty(N)\n",
    "folds = np.random.randint(0, K, size=N)\n",
    "\n",
    "for idx in np.arange(K):\n",
    "    # For each fold, break your data into training and testing subsets\n",
    "    data_train = pd.DataFrame(valid[folds != idx,:],columns=['REF_DATE','SEDOLCHK','SIMPLE_TOT_RET','COMPOUND_TOT_RET','FIVE_YR_VOLATILITY_M','FIVE_YR_VOLATILITY_W','ADY','AERR','AGRE','APE','CGR','CV3Y_EPS','CV3Y_EREV_FY1','CV3Y_REP_EPS','CV3Y_REV_MARK','CV5Y_EPS','CV6M_P','CV6M_PM6M','DEBT_MKT_CAP','DY_FWD','DY_TRL','EBIT_SALES','ECM','EEREV','EPS_SIGMA','EPSDISP','EREV','F2GRE','FDY','FERR','FGRE','FPE','FWD_ECM','FWD_GRE','LRE','MKT_CAP_SALES','NM','PB','PM6MBIS','PM6MTRIS','PCF','PCTCHG_DPS','PCTCHG_EBIT','PCTCHG_EBIT_MARGIN','PCTCHG_EBITDA','PCTCHG_EQUITY','PCTCHG_NET_DEBT','PCTCHG_NM','PCTCHG_PRE_TAX_PROFIT','PCTCHG_ROE','PCTCHG_SALES','PCTCHG_UL_SALES','PE_FWD','PE_TRL','PM6M','RC1MEEREV','RC1MEREV','REC_MARK_1M','REC_MARK_3M','REV_MARK_1M','REV_MARK_3M','REV_STD_MARK','ROE','TRL_ECM','TRL_GRE','TURNOVER_1M','UL_SALES','PB_PCF_1','PB_PCF_2','ICB_INDUSTRY_NUM','ICB_SECTOR_NUM'])\n",
    "    data_test  = pd.DataFrame(valid[folds == idx,:],columns=['REF_DATE','SEDOLCHK','SIMPLE_TOT_RET','COMPOUND_TOT_RET','FIVE_YR_VOLATILITY_M','FIVE_YR_VOLATILITY_W','ADY','AERR','AGRE','APE','CGR','CV3Y_EPS','CV3Y_EREV_FY1','CV3Y_REP_EPS','CV3Y_REV_MARK','CV5Y_EPS','CV6M_P','CV6M_PM6M','DEBT_MKT_CAP','DY_FWD','DY_TRL','EBIT_SALES','ECM','EEREV','EPS_SIGMA','EPSDISP','EREV','F2GRE','FDY','FERR','FGRE','FPE','FWD_ECM','FWD_GRE','LRE','MKT_CAP_SALES','NM','PB','PM6MBIS','PM6MTRIS','PCF','PCTCHG_DPS','PCTCHG_EBIT','PCTCHG_EBIT_MARGIN','PCTCHG_EBITDA','PCTCHG_EQUITY','PCTCHG_NET_DEBT','PCTCHG_NM','PCTCHG_PRE_TAX_PROFIT','PCTCHG_ROE','PCTCHG_SALES','PCTCHG_UL_SALES','PE_FWD','PE_TRL','PM6M','RC1MEEREV','RC1MEREV','REC_MARK_1M','REC_MARK_3M','REV_MARK_1M','REV_MARK_3M','REV_STD_MARK','ROE','TRL_ECM','TRL_GRE','TURNOVER_1M','UL_SALES','PB_PCF_1','PB_PCF_2','ICB_INDUSTRY_NUM','ICB_SECTOR_NUM'])\n"
   ]
  },
  {
   "cell_type": "code",
   "execution_count": 207,
   "metadata": {},
   "outputs": [],
   "source": [
    "#%% PREPARE FEATURES\n",
    "features = prepare_data(data_train)\n",
    "#print(features)\n",
    "\n",
    "for col in data_train.columns:\n",
    "    if data_train[col].dtype==object and col!='SEDOLCHK':\n",
    "        data_train[col]=pd.to_numeric(data_train[col],errors='coerce')\n",
    "        \n",
    "for col in data_test.columns:\n",
    "    if data_test[col].dtype==object and col!='SEDOLCHK':\n",
    "        data_test[col]=pd.to_numeric(data_test[col],errors='coerce')\n"
   ]
  },
  {
   "cell_type": "code",
   "execution_count": 208,
   "metadata": {},
   "outputs": [
    {
     "name": "stdout",
     "output_type": "stream",
     "text": [
      "1.0\n"
     ]
    },
    {
     "data": {
      "text/plain": [
       "0.9052980132450331"
      ]
     },
     "execution_count": 208,
     "metadata": {},
     "output_type": "execute_result"
    }
   ],
   "source": [
    "#%% SINGLE TREE\n",
    "model = tree.DecisionTreeClassifier(max_depth = None)\n",
    "model.fit(features, data_train[\"ICB_INDUSTRY_NUM\"])\n",
    "print(model.score(prepare_data(data_train), data_train[\"ICB_INDUSTRY_NUM\"]))\n",
    "model.score(prepare_data(data_test), data_test[\"ICB_INDUSTRY_NUM\"])\n",
    "\n",
    "#plt.figure(figsize=[30.0, 30.0])\n",
    "#tree.plot_tree(model, feature_names=features.columns)\n",
    "\n"
   ]
  },
  {
   "cell_type": "code",
   "execution_count": 210,
   "metadata": {},
   "outputs": [
    {
     "name": "stdout",
     "output_type": "stream",
     "text": [
      "    SEDOLCHK  ICB_INDUSTRY_NUM  PREDICTED                          NAME\n",
      "0    5051605              6000       3000  HELLENIC TELECOMMUN ORGANIZA\n",
      "1    BYTBXV3              5000       2000          RYANAIR HOLDINGS PLC\n",
      "2    BYTBXV3              5000       4000          RYANAIR HOLDINGS PLC\n",
      "3    BYTBXV3              5000       4000          RYANAIR HOLDINGS PLC\n",
      "4    BYTBXV3              5000       1000          RYANAIR HOLDINGS PLC\n",
      "..       ...               ...        ...                           ...\n",
      "138  B11LJN4              5000       1000                     TUI AG-DI\n",
      "139  B5VQMV6              5000       1000              GVC HOLDINGS PLC\n",
      "140  4682329              3000       2000              PERNOD RICARD SA\n",
      "141  4647317              5000       2000              AXEL SPRINGER SE\n",
      "142  5650422              7000       9000       NATURGY ENERGY GROUP SA\n",
      "\n",
      "[143 rows x 4 columns]\n"
     ]
    }
   ],
   "source": [
    "#%% GET THE OUTLIERS SEDOLCHK & names\n",
    "predicted = model.predict(prepare_data(data_test))\n",
    "g_truth = data_test[\"ICB_INDUSTRY_NUM\"].to_numpy(copy=True)\n",
    "\n",
    "outliers_sedol = pd.DataFrame(data_test[\"SEDOLCHK\"])\n",
    "outliers_sedol['ICB_INDUSTRY_NUM'] = data_test[\"ICB_INDUSTRY_NUM\"]\n",
    "outliers_sedol['PREDICTED'] = predicted\n",
    "\n",
    "rowtodrop = np.where(predicted == g_truth)[0]\n",
    "\n",
    "outliers_sedol = outliers_sedol.drop(outliers_sedol.index[rowtodrop])\n",
    "\n",
    "outliers = outliers_sedol.merge(companynames, left_on='SEDOLCHK', right_on='SEDOLCHK')\n",
    "\n",
    "print(outliers)\n",
    "\n",
    "outliers.to_excel(excel_writer = 'Tree_Outliers.xlsx')"
   ]
  },
  {
   "cell_type": "code",
   "execution_count": 211,
   "metadata": {},
   "outputs": [
    {
     "name": "stdout",
     "output_type": "stream",
     "text": [
      "1.0\n"
     ]
    },
    {
     "data": {
      "text/plain": [
       "0.990728476821192"
      ]
     },
     "execution_count": 211,
     "metadata": {},
     "output_type": "execute_result"
    }
   ],
   "source": [
    "#%% RANDOM FOREST\n",
    "forest = ensemble.RandomForestClassifier(n_estimators=500, bootstrap=True, max_features=None)\n",
    "forest.fit(features, data_train[\"ICB_INDUSTRY_NUM\"])\n",
    "print(forest.score(prepare_data(data_train), data_train[\"ICB_INDUSTRY_NUM\"]))\n",
    "forest.score(prepare_data(data_test), data_test[\"ICB_INDUSTRY_NUM\"])   \n",
    "\n"
   ]
  },
  {
   "cell_type": "code",
   "execution_count": 123,
   "metadata": {},
   "outputs": [
    {
     "name": "stdout",
     "output_type": "stream",
     "text": [
      "Empty DataFrame\n",
      "Columns: [SEDOLCHK, NAME]\n",
      "Index: []\n"
     ]
    }
   ],
   "source": [
    "#%% GET THE OUTLIERS SEDOLCHK & names\n",
    "predicted_f = forest.predict(prepare_data(data_test))\n",
    "g_truth_f = data_test[\"ICB_INDUSTRY_NUM\"].to_numpy(copy=True)\n",
    "\n",
    "outliers_sedol_f = pd.DataFrame(data_test[\"SEDOLCHK\"])\n",
    "outliers_sedol_f['ICB_INDUSTRY_NUM'] = data_test[\"ICB_INDUSTRY_NUM\"]\n",
    "outliers_sedol_f['PREDICTED'] = predicted_f\n",
    "\n",
    "rowtodrop_f = np.where(predicted_f == g_truth_f)[0]\n",
    "\n",
    "outliers_sedol_f = outliers_sedol_f.drop(outliers_sedol_f.index[rowtodrop_f])\n",
    "\n",
    "outliers_f = outliers_sedol_f.merge(companynames, left_on='SEDOLCHK', right_on='SEDOLCHK')\n",
    "\n",
    "print(outliers_f)\n",
    "\n",
    "outliers_f.to_excel(excel_writer = 'Forest_Outliers.xlsx')"
   ]
  }
 ],
 "metadata": {
  "kernelspec": {
   "display_name": "Python 3",
   "language": "python",
   "name": "python3"
  },
  "language_info": {
   "codemirror_mode": {
    "name": "ipython",
    "version": 3
   },
   "file_extension": ".py",
   "mimetype": "text/x-python",
   "name": "python",
   "nbconvert_exporter": "python",
   "pygments_lexer": "ipython3",
   "version": "3.6.5"
  }
 },
 "nbformat": 4,
 "nbformat_minor": 2
}
