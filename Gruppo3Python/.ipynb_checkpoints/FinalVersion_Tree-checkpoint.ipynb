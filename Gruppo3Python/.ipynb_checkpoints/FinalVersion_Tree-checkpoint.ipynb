{
 "cells": [
  {
   "cell_type": "code",
   "execution_count": 1,
   "metadata": {},
   "outputs": [
    {
     "name": "stdout",
     "output_type": "stream",
     "text": [
      "\\\\srv0001\\Risorse\\Public\\Gruppo3-Python\n"
     ]
    }
   ],
   "source": [
    "\"\"\"Progetto_gruppo3.ipynb\n",
    "\"\"\"\n",
    "\n",
    "#%% IMPORT SECTION\n",
    "import os\n",
    "import pandas as pd\n",
    "import numpy as np\n",
    "import matplotlib.pyplot as plt\n",
    "from random import seed\n",
    "from random import randint\n",
    "from sklearn.tree import DecisionTreeClassifier \n",
    "from sklearn.ensemble import RandomForestClassifier\n",
    "from sklearn.model_selection import GridSearchCV\n",
    "from sklearn import ensemble \n",
    "from sklearn import tree\n",
    "\n",
    "#%% DIRECTORY SETTINGS\n",
    "# Change work directory\n",
    "os.chdir('//srv0001/Risorse/Public/Gruppo3-Python')\n",
    "cwd = os.getcwd()\n",
    "print(cwd)\n",
    "\n",
    "\n",
    "#%% PREPARE FUNCTION\n",
    "def prepare_data(data):\n",
    "   \n",
    "    features = data.drop([\"REF_DATE\", \"SEDOLCHK\", \"ICB_INDUSTRY_NUM\", \"ICB_SECTOR_NUM\"], axis=1).astype(\"float64\")\n",
    "        \n",
    "    return features\n"
   ]
  },
  {
   "cell_type": "code",
   "execution_count": 2,
   "metadata": {},
   "outputs": [
    {
     "name": "stdout",
     "output_type": "stream",
     "text": [
      "0    20050429\n",
      "1    20050531\n",
      "2    20050630\n",
      "3    20050729\n",
      "4    20050831\n",
      "5    20050930\n",
      "6    20051031\n",
      "7    20051130\n",
      "8    20051230\n",
      "9    20060131\n",
      "Name: REF_DATE, dtype: int64\n"
     ]
    }
   ],
   "source": [
    "#%% IMPORT DATA\n",
    "#Import .csv\n",
    "clean_data = pd.read_csv(r'Data/clean2.csv', sep=',')\n",
    "\n",
    "for col in clean_data.columns:\n",
    "        if clean_data[col].dtype==object and col!='SEDOLCHK':\n",
    "            clean_data[col]=pd.to_numeric(clean_data[col],errors='coerce')\n",
    "        \n",
    "companynames = pd.read_csv(r'Data/companynames.csv', sep=',')\n",
    "companynames = companynames.drop_duplicates(subset = \"SEDOLCHK\")\n",
    "\n",
    "#print(clean_data.head(10))\n",
    "\n",
    "referenceDate = clean_data[\"REF_DATE\"].drop_duplicates().reset_index(drop = True)\n",
    "\n",
    "print(referenceDate.head(10))\n",
    "\n",
    "sectors_dict = {'1':'Oil & Gas','1000':'Basic Materials','2000':'Industrial',\n",
    "'3000':'Consumer Good','4000':'Health Care','5000':'Consumer Services',\n",
    "'6000':'Telecomunications','7000':'Utilities','8000':'Financials',\n",
    "'9000':'Technology'}"
   ]
  },
  {
   "cell_type": "code",
   "execution_count": 3,
   "metadata": {},
   "outputs": [],
   "source": [
    "#%% get the rolling window\n",
    "alldata = len(referenceDate.index)\n",
    "months_to_train = 12;\n",
    "Num_of_Try = 10\n",
    "\n",
    "value = np.random.randint(months_to_train, alldata, size=Num_of_Try)\n",
    "    \n",
    "for i in value:\n",
    "    All_dateToCheck = referenceDate.loc[value]\n",
    "    All_startRefDate  = referenceDate.loc[value-months_to_train-1]\n",
    "    All_endRefDate = referenceDate.loc[value-1]"
   ]
  },
  {
   "cell_type": "code",
   "execution_count": 6,
   "metadata": {},
   "outputs": [
    {
     "name": "stdout",
     "output_type": "stream",
     "text": [
      "0.8314816206745071 {'max_depth': 28}\n"
     ]
    }
   ],
   "source": [
    "\n",
    "startRefDate = All_startRefDate.values[1]\n",
    "endRefDate =  All_endRefDate.values[1]\n",
    "#clean_data['REF_DATE'] = pd.to_numeric(clean_data['REF_DATE'],errors='coerce')\n",
    "mywindow = clean_data[(clean_data['REF_DATE']>=startRefDate) & (clean_data['REF_DATE']<=endRefDate)]\n",
    "#print(mywindow)\n",
    "\n",
    "#%% K fold using GridSearchCV\n",
    "\n",
    "features = prepare_data(mywindow)\n",
    "\n",
    "x = features\n",
    "y = mywindow['ICB_INDUSTRY_NUM']\n",
    "\n",
    "parameters = {'max_depth':range(15,30)}\n",
    "clf = GridSearchCV(tree.DecisionTreeClassifier(), parameters, n_jobs=8)\n",
    "clf.fit(X=x, y=y)\n",
    "tree_model = clf.best_estimator_\n",
    "\n",
    "print (clf.best_score_, clf.best_params_) \n"
   ]
  },
  {
   "cell_type": "code",
   "execution_count": 7,
   "metadata": {},
   "outputs": [
    {
     "name": "stdout",
     "output_type": "stream",
     "text": [
      "   ICB_INDUSTRY_NUM        PREDICTED SEDOLCHK                         NAME\n",
      "0        Technology       Industrial  BBG9VN7              AVEVA GROUP PLC\n",
      "1        Industrial    Consumer Good  5108664                  HOCHTIEF AG\n",
      "2   Basic Materials    Consumer Good  B11Y568             WACKER CHEMIE AG\n",
      "3       Health Care  Basic Materials  B573M11       CHR HANSEN HOLDING A/S\n",
      "4   Basic Materials    Consumer Good  B1JB4K8                   SYMRISE AG\n",
      "..              ...              ...      ...                          ...\n",
      "68        Oil & Gas       Industrial  BDZZRW1                   SAIPEM SPA\n",
      "69    Consumer Good        Utilities  5962309  CHOCOLADEFABRIKEN LINDT-REG\n",
      "70      Health Care    Consumer Good  5986622       KONINKLIJKE PHILIPS NV\n",
      "71        Oil & Gas        Utilities  7145056                      ENI SPA\n",
      "72       Industrial       Technology  5727973               SIEMENS AG-REG\n",
      "\n",
      "[73 rows x 4 columns]\n"
     ]
    }
   ],
   "source": [
    "#%% FIT THE REAL MODEL\n",
    "\n",
    "model = tree.DecisionTreeClassifier(max_depth = clf.best_params_.get('max_depth'))\n",
    "model.fit(features, mywindow['ICB_INDUSTRY_NUM'])\n",
    "\n",
    "#% GET THE Baseline\n",
    "baseline = model.predict(prepare_data(mywindow))\n",
    "base_truth = mywindow[\"ICB_INDUSTRY_NUM\"].to_numpy(copy=True)\n",
    "\n",
    "base_sedol = pd.DataFrame(mywindow[\"SEDOLCHK\"])\n",
    "base_sedol['ICB_INDUSTRY_NUM'] = mywindow[\"ICB_INDUSTRY_NUM\"]\n",
    "base_sedol['PREDICTED'] = baseline\n",
    "\n",
    "rowtodrop = np.where(baseline == base_truth)[0]\n",
    "\n",
    "base_sedol = base_sedol.drop(base_sedol.index[rowtodrop])\n",
    "\n",
    "mybase = base_sedol.merge(companynames, left_on='SEDOLCHK', right_on='SEDOLCHK')\n",
    "\n",
    "mybase[\"ICB_INDUSTRY_NUM\"] = mybase[\"ICB_INDUSTRY_NUM\"].astype(str)\n",
    "mybase[\"ICB_INDUSTRY_NUM\"] = mybase[\"ICB_INDUSTRY_NUM\"].map(sectors_dict)\n",
    "mybase[\"PREDICTED\"] = mybase[\"PREDICTED\"].astype(str)\n",
    "mybase[\"PREDICTED\"] = mybase[\"PREDICTED\"].map(sectors_dict)\n",
    "\n",
    "#%% GET THE OUTLIERS SEDOLCHK & names\n",
    "test_last_month = clean_data[(clean_data.REF_DATE==All_dateToCheck.values[1])].copy()\n",
    "predicted = model.predict(prepare_data(test_last_month))\n",
    "g_truth = test_last_month[\"ICB_INDUSTRY_NUM\"].to_numpy(copy=True)\n",
    "\n",
    "outliers_sedol = pd.DataFrame(test_last_month[\"SEDOLCHK\"])\n",
    "outliers_sedol['ICB_INDUSTRY_NUM'] = test_last_month[\"ICB_INDUSTRY_NUM\"]\n",
    "outliers_sedol['PREDICTED'] = predicted\n",
    "\n",
    "rowtodrop = np.where(predicted == g_truth)[0]\n",
    "\n",
    "outliers_sedol = outliers_sedol.drop(outliers_sedol.index[rowtodrop])\n",
    "\n",
    "outliers = outliers_sedol.merge(companynames, left_on='SEDOLCHK', right_on='SEDOLCHK')\n",
    "\n",
    "outliers[\"ICB_INDUSTRY_NUM\"] = outliers[\"ICB_INDUSTRY_NUM\"].astype(str)\n",
    "outliers[\"ICB_INDUSTRY_NUM\"] = outliers[\"ICB_INDUSTRY_NUM\"].map(sectors_dict)\n",
    "outliers[\"PREDICTED\"] = outliers[\"PREDICTED\"].astype(str)\n",
    "outliers[\"PREDICTED\"] = outliers[\"PREDICTED\"].map(sectors_dict)\n",
    "\n",
    "OneMonthOutliers = pd.concat([mybase,outliers]).drop_duplicates(keep=False)\n",
    "\n",
    "print(OneMonthOutliers)\n",
    "filename = 'Tree_Outliers_'+str(All_dateToCheck.values[1])+'.xlsx'\n",
    "\n",
    "OneMonthOutliers.to_excel(excel_writer = filename)"
   ]
  },
  {
   "cell_type": "code",
   "execution_count": 9,
   "metadata": {},
   "outputs": [
    {
     "name": "stdout",
     "output_type": "stream",
     "text": [
      "   SEDOLCHK ICB_INDUSTRY_NUM        PREDICTED                         NAME\n",
      "0   BBG9VN7       Technology       Industrial              AVEVA GROUP PLC\n",
      "1   5108664       Industrial    Consumer Good                  HOCHTIEF AG\n",
      "2   B11Y568  Basic Materials    Consumer Good             WACKER CHEMIE AG\n",
      "3   B573M11      Health Care  Basic Materials       CHR HANSEN HOLDING A/S\n",
      "4   B1JB4K8  Basic Materials    Consumer Good                   SYMRISE AG\n",
      "..      ...              ...              ...                          ...\n",
      "68  BDZZRW1        Oil & Gas       Industrial                   SAIPEM SPA\n",
      "69  5962309    Consumer Good        Utilities  CHOCOLADEFABRIKEN LINDT-REG\n",
      "70  5986622      Health Care    Consumer Good       KONINKLIJKE PHILIPS NV\n",
      "71  7145056        Oil & Gas        Utilities                      ENI SPA\n",
      "72  5727973       Industrial       Technology               SIEMENS AG-REG\n",
      "\n",
      "[73 rows x 4 columns]\n"
     ]
    }
   ],
   "source": [
    "print(outliers)"
   ]
  },
  {
   "cell_type": "code",
   "execution_count": null,
   "metadata": {},
   "outputs": [],
   "source": []
  }
 ],
 "metadata": {
  "kernelspec": {
   "display_name": "Python 3",
   "language": "python",
   "name": "python3"
  },
  "language_info": {
   "codemirror_mode": {
    "name": "ipython",
    "version": 3
   },
   "file_extension": ".py",
   "mimetype": "text/x-python",
   "name": "python",
   "nbconvert_exporter": "python",
   "pygments_lexer": "ipython3",
   "version": "3.6.5"
  }
 },
 "nbformat": 4,
 "nbformat_minor": 2
}
