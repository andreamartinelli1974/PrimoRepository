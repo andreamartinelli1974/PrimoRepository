{
 "cells": [
  {
   "cell_type": "code",
   "execution_count": 1,
   "metadata": {},
   "outputs": [
    {
     "name": "stdout",
     "output_type": "stream",
     "text": [
      "\\\\srv0001\\Risorse\\Public\\Gruppo3-Python\n"
     ]
    }
   ],
   "source": [
    "\"\"\"Progetto_gruppo3.ipynb\n",
    "\"\"\"\n",
    "\n",
    "#%% IMPORT SECTION\n",
    "import os\n",
    "import pandas as pd\n",
    "import numpy as np\n",
    "import matplotlib.pyplot as plt\n",
    "from sklearn.tree import DecisionTreeClassifier \n",
    "from sklearn.ensemble import RandomForestClassifier\n",
    "from sklearn import ensemble \n",
    "from sklearn import tree\n",
    "\n",
    "#%% DIRECTORY SETTINGS\n",
    "# Change work directory\n",
    "os.chdir('//srv0001/Risorse/Public/Gruppo3-Python')\n",
    "cwd = os.getcwd()\n",
    "print(cwd)\n",
    "\n",
    "\n",
    "#%% PREPARE FUNCTION\n",
    "def prepare_data(data):\n",
    "   \n",
    "    features = data.drop([\"REF_DATE\", \"SEDOLCHK\", \"ICB_INDUSTRY_NUM\", \"ICB_SECTOR_NUM\"], axis=1).astype(\"float64\")\n",
    "        \n",
    "    return features\n"
   ]
  },
  {
   "cell_type": "code",
   "execution_count": 5,
   "metadata": {},
   "outputs": [
    {
     "name": "stdout",
     "output_type": "stream",
     "text": [
      "   REF_DATE SEDOLCHK  SIMPLE_TOT_RET  COMPOUND_TOT_RET  FIVE_YR_VOLATILITY_M  \\\n",
      "0  20050429  0096162          0.0616            0.0616                0.3930   \n",
      "1  20050429  5713422          0.1607            0.1607                0.3452   \n",
      "2  20050429  BFRSRR7          0.0489            0.0489                0.2102   \n",
      "3  20050429  0309644          0.1337            0.1337                0.3508   \n",
      "4  20050429  BYXS699         -0.0268           -0.0268                0.6543   \n",
      "5  20050429  0180366          0.0495            0.0495                0.3041   \n",
      "6  20050429  7086650          0.0775            0.0775                0.2945   \n",
      "7  20050429  B1QH830          0.0521            0.0521                0.3057   \n",
      "8  20050429  B1XH026          0.0653            0.0656                0.2142   \n",
      "9  20050429  4061393          0.1077            0.1080                0.3171   \n",
      "\n",
      "   FIVE_YR_VOLATILITY_W     ADY    AERR    AGRE      APE  ...  REV_STD_MARK  \\\n",
      "0                0.3944  0.0217  0.7146  0.1269  13.1687  ...       -0.0002   \n",
      "1                0.3675  0.0250  0.5070  1.1861  19.7183  ...        0.0033   \n",
      "2                0.2270  0.0352  0.6016  0.1034  11.3051  ...       -0.0038   \n",
      "3                0.3270  0.0777  0.0000  0.0264  13.4045  ...        0.0000   \n",
      "4                0.6698  0.0000  1.0000  0.0832  36.3643  ...        0.0004   \n",
      "5                0.2904  0.0462  0.5336  0.1411  10.1016  ...       -0.0146   \n",
      "6                0.3055  0.0040  0.9087  1.6130  22.8697  ...        0.0007   \n",
      "7                0.3017  0.0434  0.4799  1.3808  11.9831  ...        0.0061   \n",
      "8                0.2248  0.0301  0.6036  0.0840  13.1493  ...        0.0011   \n",
      "9                0.3680  0.0202  0.6969  0.3583  14.9919  ...        0.0014   \n",
      "\n",
      "      ROE  TRL_ECM  TRL_GRE  TURNOVER_1M  UL_SALES  PB_PCF_1  PB_PCF_2  \\\n",
      "0  0.2529   0.0233   0.0793      10.6313    0.0384    8.8152    8.8152   \n",
      "1  0.1332   0.1570   0.3736      16.1745    0.0519    7.7778    7.7778   \n",
      "2  0.1395  -0.0441  -0.1081       5.0433    0.0553    8.2545    8.2545   \n",
      "3  0.2224  -0.0625  -0.0403      16.3080    0.1356   11.8313   11.8313   \n",
      "4  0.1482   0.0470   0.2447       4.6257    0.2606   20.7958   20.7958   \n",
      "5  0.1991  -0.0664  -0.0490      20.9755    0.1904    2.3417    9.4748   \n",
      "6  0.1740  -0.1685   0.4382       2.3483    0.0845    5.1884    5.1884   \n",
      "7  0.1652   0.1407   0.1962     100.7352    0.0788    5.5071    5.5071   \n",
      "8  0.2419   0.0983   0.1048      52.3113    0.0652    6.2927    6.2927   \n",
      "9  0.1682   0.0584   0.1597       9.6978    0.1536    4.0707    4.0707   \n",
      "\n",
      "   ICB_INDUSTRY_NUM  ICB_SECTOR_NUM  \n",
      "0              2000            2350  \n",
      "1              2000            2750  \n",
      "2              3000            3570  \n",
      "3              2000            2790  \n",
      "4              4000            4570  \n",
      "5              8000            8770  \n",
      "6              2000            2720  \n",
      "7              2000            2750  \n",
      "8              2000            2350  \n",
      "9              3000            3760  \n",
      "\n",
      "[10 rows x 71 columns]\n"
     ]
    }
   ],
   "source": [
    "#%% IMPORT DATA\n",
    "#Import .csv\n",
    "clean_data = pd.read_csv(r'Data/clean.csv', sep=';')\n",
    "companynames = pd.read_csv(r'Data/companynames.csv', sep=',')\n",
    "companynames = companynames.drop_duplicates(subset = \"SEDOLCHK\")\n",
    "print(clean_data.head(10))\n"
   ]
  },
  {
   "cell_type": "code",
   "execution_count": 6,
   "metadata": {},
   "outputs": [],
   "source": [
    "#%% K-FOLD VALIDATION\n",
    "valid = clean_data.to_numpy(copy=True)\n",
    "N = valid.shape[0]\n",
    "K = valid.shape[1]                                         # number of folds\n",
    "preds_kfold = np.empty(N)\n",
    "folds = np.random.randint(0, K, size=N)\n",
    "\n",
    "for idx in np.arange(K):\n",
    "    # For each fold, break your data into training and testing subsets\n",
    "    data_train = pd.DataFrame(valid[folds != idx,:],columns=['REF_DATE','SEDOLCHK','SIMPLE_TOT_RET','COMPOUND_TOT_RET','FIVE_YR_VOLATILITY_M','FIVE_YR_VOLATILITY_W','ADY','AERR','AGRE','APE','CGR','CV3Y_EPS','CV3Y_EREV_FY1','CV3Y_REP_EPS','CV3Y_REV_MARK','CV5Y_EPS','CV6M_P','CV6M_PM6M','DEBT_MKT_CAP','DY_FWD','DY_TRL','EBIT_SALES','ECM','EEREV','EPS_SIGMA','EPSDISP','EREV','F2GRE','FDY','FERR','FGRE','FPE','FWD_ECM','FWD_GRE','LRE','MKT_CAP_SALES','NM','PB','PM6MBIS','PM6MTRIS','PCF','PCTCHG_DPS','PCTCHG_EBIT','PCTCHG_EBIT_MARGIN','PCTCHG_EBITDA','PCTCHG_EQUITY','PCTCHG_NET_DEBT','PCTCHG_NM','PCTCHG_PRE_TAX_PROFIT','PCTCHG_ROE','PCTCHG_SALES','PCTCHG_UL_SALES','PE_FWD','PE_TRL','PM6M','RC1MEEREV','RC1MEREV','REC_MARK_1M','REC_MARK_3M','REV_MARK_1M','REV_MARK_3M','REV_STD_MARK','ROE','TRL_ECM','TRL_GRE','TURNOVER_1M','UL_SALES','PB_PCF_1','PB_PCF_2','ICB_INDUSTRY_NUM','ICB_SECTOR_NUM'])\n",
    "    data_test  = pd.DataFrame(valid[folds == idx,:],columns=['REF_DATE','SEDOLCHK','SIMPLE_TOT_RET','COMPOUND_TOT_RET','FIVE_YR_VOLATILITY_M','FIVE_YR_VOLATILITY_W','ADY','AERR','AGRE','APE','CGR','CV3Y_EPS','CV3Y_EREV_FY1','CV3Y_REP_EPS','CV3Y_REV_MARK','CV5Y_EPS','CV6M_P','CV6M_PM6M','DEBT_MKT_CAP','DY_FWD','DY_TRL','EBIT_SALES','ECM','EEREV','EPS_SIGMA','EPSDISP','EREV','F2GRE','FDY','FERR','FGRE','FPE','FWD_ECM','FWD_GRE','LRE','MKT_CAP_SALES','NM','PB','PM6MBIS','PM6MTRIS','PCF','PCTCHG_DPS','PCTCHG_EBIT','PCTCHG_EBIT_MARGIN','PCTCHG_EBITDA','PCTCHG_EQUITY','PCTCHG_NET_DEBT','PCTCHG_NM','PCTCHG_PRE_TAX_PROFIT','PCTCHG_ROE','PCTCHG_SALES','PCTCHG_UL_SALES','PE_FWD','PE_TRL','PM6M','RC1MEEREV','RC1MEREV','REC_MARK_1M','REC_MARK_3M','REV_MARK_1M','REV_MARK_3M','REV_STD_MARK','ROE','TRL_ECM','TRL_GRE','TURNOVER_1M','UL_SALES','PB_PCF_1','PB_PCF_2','ICB_INDUSTRY_NUM','ICB_SECTOR_NUM'])\n"
   ]
  },
  {
   "cell_type": "code",
   "execution_count": 7,
   "metadata": {},
   "outputs": [],
   "source": [
    "#%% PREPARE FEATURES\n",
    "features = prepare_data(data_train)\n",
    "#print(features)\n",
    "\n",
    "for col in data_train.columns:\n",
    "    if data_train[col].dtype==object and col!='SEDOLCHK':\n",
    "        data_train[col]=pd.to_numeric(data_train[col],errors='coerce')\n",
    "        \n",
    "for col in data_test.columns:\n",
    "    if data_test[col].dtype==object and col!='SEDOLCHK':\n",
    "        data_test[col]=pd.to_numeric(data_test[col],errors='coerce')\n"
   ]
  },
  {
   "cell_type": "code",
   "execution_count": 8,
   "metadata": {},
   "outputs": [
    {
     "name": "stdout",
     "output_type": "stream",
     "text": [
      "1.0\n"
     ]
    },
    {
     "data": {
      "text/plain": [
       "0.905977165883143"
      ]
     },
     "execution_count": 8,
     "metadata": {},
     "output_type": "execute_result"
    }
   ],
   "source": [
    "#%% SINGLE TREE\n",
    "model = tree.DecisionTreeClassifier(max_depth = None)\n",
    "model.fit(features, data_train[\"ICB_INDUSTRY_NUM\"])\n",
    "print(model.score(prepare_data(data_train), data_train[\"ICB_INDUSTRY_NUM\"]))\n",
    "model.score(prepare_data(data_test), data_test[\"ICB_INDUSTRY_NUM\"])\n",
    "\n",
    "#plt.figure(figsize=[30.0, 30.0])\n",
    "#tree.plot_tree(model, feature_names=features.columns)\n",
    "\n"
   ]
  },
  {
   "cell_type": "code",
   "execution_count": 9,
   "metadata": {},
   "outputs": [
    {
     "name": "stdout",
     "output_type": "stream",
     "text": [
      "    SEDOLCHK  ICB_INDUSTRY_NUM  PREDICTED                          NAME\n",
      "0    B1FP891              2000       3000              BBA AVIATION PLC\n",
      "1    B5M6XQ7              5000       1000  INTL CONSOLIDATED AIRLINE-DI\n",
      "2    B07VZ99              5000       4000  ATRESMEDIA CORP DE MEDIOS DE\n",
      "3    3319521              5000       1000                KINGFISHER PLC\n",
      "4    3319521              5000       1000                KINGFISHER PLC\n",
      "..       ...               ...        ...                           ...\n",
      "135  B0DJ8Q5              2000          1                        ALSTOM\n",
      "136  B5N0P84                 1       4000           JOHN WOOD GROUP PLC\n",
      "137  B61TVQ0              5000       2000                  INCHCAPE PLC\n",
      "138  4061412              3000       4000  LVMH MOET HENNESSY LOUIS VUI\n",
      "139  3127489              5000       6000     MARKS & SPENCER GROUP PLC\n",
      "\n",
      "[140 rows x 4 columns]\n"
     ]
    }
   ],
   "source": [
    "#%% GET THE OUTLIERS SEDOLCHK & names\n",
    "predicted = model.predict(prepare_data(data_test))\n",
    "g_truth = data_test[\"ICB_INDUSTRY_NUM\"].to_numpy(copy=True)\n",
    "\n",
    "outliers_sedol = pd.DataFrame(data_test[\"SEDOLCHK\"])\n",
    "outliers_sedol['ICB_INDUSTRY_NUM'] = data_test[\"ICB_INDUSTRY_NUM\"]\n",
    "outliers_sedol['PREDICTED'] = predicted\n",
    "\n",
    "rowtodrop = np.where(predicted == g_truth)[0]\n",
    "\n",
    "outliers_sedol = outliers_sedol.drop(outliers_sedol.index[rowtodrop])\n",
    "\n",
    "outliers = outliers_sedol.merge(companynames, left_on='SEDOLCHK', right_on='SEDOLCHK')\n",
    "\n",
    "print(outliers)\n",
    "\n",
    "outliers.to_excel(excel_writer = 'Tree_Outliers.xlsx')"
   ]
  },
  {
   "cell_type": "code",
   "execution_count": null,
   "metadata": {},
   "outputs": [],
   "source": [
    "\n",
    "    "
   ]
  },
  {
   "cell_type": "code",
   "execution_count": 211,
   "metadata": {},
   "outputs": [
    {
     "name": "stdout",
     "output_type": "stream",
     "text": [
      "1.0\n"
     ]
    },
    {
     "data": {
      "text/plain": [
       "0.990728476821192"
      ]
     },
     "execution_count": 211,
     "metadata": {},
     "output_type": "execute_result"
    }
   ],
   "source": [
    "#%% RANDOM FOREST\n",
    "forest = ensemble.RandomForestClassifier(n_estimators=500, bootstrap=True, max_features=None)\n",
    "forest.fit(features, data_train[\"ICB_INDUSTRY_NUM\"])\n",
    "print(forest.score(prepare_data(data_train), data_train[\"ICB_INDUSTRY_NUM\"]))\n",
    "forest.score(prepare_data(data_test), data_test[\"ICB_INDUSTRY_NUM\"])   \n",
    "\n"
   ]
  },
  {
   "cell_type": "code",
   "execution_count": 123,
   "metadata": {},
   "outputs": [
    {
     "name": "stdout",
     "output_type": "stream",
     "text": [
      "Empty DataFrame\n",
      "Columns: [SEDOLCHK, NAME]\n",
      "Index: []\n"
     ]
    }
   ],
   "source": [
    "#%% GET THE OUTLIERS SEDOLCHK & names\n",
    "predicted_f = forest.predict(prepare_data(data_test))\n",
    "g_truth_f = data_test[\"ICB_INDUSTRY_NUM\"].to_numpy(copy=True)\n",
    "\n",
    "outliers_sedol_f = pd.DataFrame(data_test[\"SEDOLCHK\"])\n",
    "outliers_sedol_f['ICB_INDUSTRY_NUM'] = data_test[\"ICB_INDUSTRY_NUM\"]\n",
    "outliers_sedol_f['PREDICTED'] = predicted_f\n",
    "\n",
    "rowtodrop_f = np.where(predicted_f == g_truth_f)[0]\n",
    "\n",
    "outliers_sedol_f = outliers_sedol_f.drop(outliers_sedol_f.index[rowtodrop_f])\n",
    "\n",
    "outliers_f = outliers_sedol_f.merge(companynames, left_on='SEDOLCHK', right_on='SEDOLCHK')\n",
    "\n",
    "print(outliers_f)\n",
    "\n",
    "outliers_f.to_excel(excel_writer = 'Forest_Outliers.xlsx')"
   ]
  }
 ],
 "metadata": {
  "kernelspec": {
   "display_name": "Python 3",
   "language": "python",
   "name": "python3"
  },
  "language_info": {
   "codemirror_mode": {
    "name": "ipython",
    "version": 3
   },
   "file_extension": ".py",
   "mimetype": "text/x-python",
   "name": "python",
   "nbconvert_exporter": "python",
   "pygments_lexer": "ipython3",
   "version": "3.6.5"
  }
 },
 "nbformat": 4,
 "nbformat_minor": 2
}
